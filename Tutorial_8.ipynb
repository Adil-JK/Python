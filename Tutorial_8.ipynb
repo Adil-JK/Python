{
 "cells": [
  {
   "cell_type": "code",
   "execution_count": 1,
   "metadata": {},
   "outputs": [],
   "source": [
    "# Functions in Python"
   ]
  },
  {
   "cell_type": "code",
   "execution_count": 1,
   "metadata": {},
   "outputs": [
    {
     "name": "stdout",
     "output_type": "stream",
     "text": [
      "Hello Pakistan\n"
     ]
    }
   ],
   "source": [
    "def func():\n",
    "    print(\"Hello Pakistan\")\n",
    "func()"
   ]
  },
  {
   "cell_type": "code",
   "execution_count": 2,
   "metadata": {},
   "outputs": [
    {
     "name": "stdout",
     "output_type": "stream",
     "text": [
      "The sum of a and b is 5\n"
     ]
    },
    {
     "data": {
      "text/plain": [
       "<function __main__.sum(a, b)>"
      ]
     },
     "execution_count": 2,
     "metadata": {},
     "output_type": "execute_result"
    }
   ],
   "source": [
    "def sum(a,b):\n",
    "    c = a + b\n",
    "    print(\"The sum of a and b is\", c)\n",
    "    return sum\n",
    "sum(2,3)\n",
    "    "
   ]
  },
  {
   "cell_type": "code",
   "execution_count": 3,
   "metadata": {},
   "outputs": [
    {
     "name": "stdout",
     "output_type": "stream",
     "text": [
      "My name is Muhammad Adil\n"
     ]
    }
   ],
   "source": [
    "def add(*args):\n",
    "    print(\"My name is \" + args[0] + args[1])\n",
    "add(\"Muhammad \", \"Adil\")"
   ]
  },
  {
   "cell_type": "code",
   "execution_count": 4,
   "metadata": {},
   "outputs": [
    {
     "name": "stdout",
     "output_type": "stream",
     "text": [
      "Name of student is Adil\n"
     ]
    }
   ],
   "source": [
    "def name(first_name = \"Adil\"):\n",
    "    print(\"Name of student is \" + first_name)\n",
    "name()"
   ]
  },
  {
   "cell_type": "code",
   "execution_count": 5,
   "metadata": {},
   "outputs": [
    {
     "name": "stdout",
     "output_type": "stream",
     "text": [
      "apple\n",
      "mango\n",
      "orange\n"
     ]
    }
   ],
   "source": [
    "def basket(fruits):\n",
    "    for x in fruits:\n",
    "        if x==\"cherry\":\n",
    "            break\n",
    "        print(x)\n",
    "Items = [\"apple\", \"mango\", \"orange\", \"cherry\", \"melon\"]\n",
    "basket(Items)"
   ]
  },
  {
   "cell_type": "code",
   "execution_count": 6,
   "metadata": {},
   "outputs": [
    {
     "name": "stdout",
     "output_type": "stream",
     "text": [
      "(5, -1)\n"
     ]
    }
   ],
   "source": [
    "def summation(val1, val2):\n",
    "    add = val1 + val2\n",
    "    sub = val1 - val2\n",
    "    return add, sub\n",
    "print(summation(2,3))"
   ]
  },
  {
   "cell_type": "code",
   "execution_count": 7,
   "metadata": {},
   "outputs": [
    {
     "name": "stdout",
     "output_type": "stream",
     "text": [
      "Enter the first value: \n",
      "Enter the second value: \n",
      "The two values are equal\n"
     ]
    }
   ],
   "source": [
    "def max():\n",
    "    x1 = input(\"Enter the first value: \")\n",
    "    x2 = input(\"Enter the second value: \")\n",
    "    if x1>x2:\n",
    "        print(f\"The maximum value is {x1}\")\n",
    "    elif x2>x1:\n",
    "        print(f\"The maximum value is {x2}\")\n",
    "    else:\n",
    "        print(\"The two values are equal\")\n",
    "max()"
   ]
  },
  {
   "cell_type": "code",
   "execution_count": 8,
   "metadata": {},
   "outputs": [
    {
     "name": "stdout",
     "output_type": "stream",
     "text": [
      "Enter the value: \n"
     ]
    }
   ],
   "source": [
    "def fruits():\n",
    "    x = input(\"Enter the value: \")\n",
    "    if x==\"orange\":\n",
    "        print(list_1)\n",
    "list_1 = [\"apple\", \"mango\", \"orange\", \"cherry\", \"melon\"]\n",
    "fruits()"
   ]
  },
  {
   "cell_type": "code",
   "execution_count": 9,
   "metadata": {},
   "outputs": [
    {
     "name": "stdout",
     "output_type": "stream",
     "text": [
      "Enter the first value: \n",
      "Enter the second value: \n",
      "Enter the third value: \n",
      "The two values are equal\n"
     ]
    }
   ],
   "source": [
    "def max():\n",
    "    x1 = input(\"Enter the first value: \")\n",
    "    x2 = input(\"Enter the second value: \")\n",
    "    x3 = input(\"Enter the third value: \")\n",
    "    if x1>x2 and x1>x3:\n",
    "        print(f\"The maximum value is {x1}\")\n",
    "    elif x2>x1 and x2>x3 :\n",
    "        print(f\"The maximum value is {x2}\")\n",
    "    elif x3>x1 and x3>x2 :\n",
    "        print(f\"The maximum value is {x3}\")\n",
    "    else:\n",
    "        print(\"The two values are equal\")\n",
    "max()"
   ]
  },
  {
   "cell_type": "code",
   "execution_count": 10,
   "metadata": {},
   "outputs": [
    {
     "name": "stdout",
     "output_type": "stream",
     "text": [
      "Enter the 1st number: \n"
     ]
    },
    {
     "ename": "ValueError",
     "evalue": "invalid literal for int() with base 10: ''",
     "output_type": "error",
     "traceback": [
      "\u001b[1;31m---------------------------------------------------------------------------\u001b[0m",
      "\u001b[1;31mValueError\u001b[0m                                Traceback (most recent call last)",
      "\u001b[1;32m<ipython-input-10-0873be852b9e>\u001b[0m in \u001b[0;36m<module>\u001b[1;34m\u001b[0m\n\u001b[0;32m      2\u001b[0m     \u001b[0mprint\u001b[0m\u001b[1;33m(\u001b[0m\u001b[1;34m\"The largest number is \"\u001b[0m\u001b[1;33m,\u001b[0m \u001b[0mmax\u001b[0m\u001b[1;33m(\u001b[0m\u001b[0margs\u001b[0m\u001b[1;33m)\u001b[0m\u001b[1;33m)\u001b[0m\u001b[1;33m\u001b[0m\u001b[1;33m\u001b[0m\u001b[0m\n\u001b[0;32m      3\u001b[0m     \u001b[0mprint\u001b[0m\u001b[1;33m(\u001b[0m\u001b[1;34m\"The smallest number is \"\u001b[0m\u001b[1;33m,\u001b[0m \u001b[0mmin\u001b[0m\u001b[1;33m(\u001b[0m\u001b[0margs\u001b[0m\u001b[1;33m)\u001b[0m\u001b[1;33m)\u001b[0m\u001b[1;33m\u001b[0m\u001b[1;33m\u001b[0m\u001b[0m\n\u001b[1;32m----> 4\u001b[1;33m \u001b[0mnum_1\u001b[0m \u001b[1;33m=\u001b[0m \u001b[0mint\u001b[0m\u001b[1;33m(\u001b[0m\u001b[0minput\u001b[0m\u001b[1;33m(\u001b[0m\u001b[1;34m\"Enter the 1st number: \"\u001b[0m\u001b[1;33m)\u001b[0m\u001b[1;33m)\u001b[0m\u001b[1;33m\u001b[0m\u001b[1;33m\u001b[0m\u001b[0m\n\u001b[0m\u001b[0;32m      5\u001b[0m \u001b[0mnum_2\u001b[0m \u001b[1;33m=\u001b[0m \u001b[0mint\u001b[0m\u001b[1;33m(\u001b[0m\u001b[0minput\u001b[0m\u001b[1;33m(\u001b[0m\u001b[1;34m\"Enter the 2nd number: \"\u001b[0m\u001b[1;33m)\u001b[0m\u001b[1;33m)\u001b[0m\u001b[1;33m\u001b[0m\u001b[1;33m\u001b[0m\u001b[0m\n\u001b[0;32m      6\u001b[0m \u001b[0mnum_3\u001b[0m \u001b[1;33m=\u001b[0m \u001b[0mint\u001b[0m\u001b[1;33m(\u001b[0m\u001b[0minput\u001b[0m\u001b[1;33m(\u001b[0m\u001b[1;34m\"Enter the 3rd number: \"\u001b[0m\u001b[1;33m)\u001b[0m\u001b[1;33m)\u001b[0m\u001b[1;33m\u001b[0m\u001b[1;33m\u001b[0m\u001b[0m\n",
      "\u001b[1;31mValueError\u001b[0m: invalid literal for int() with base 10: ''"
     ]
    }
   ],
   "source": [
    "def max_num(*args):\n",
    "    print(\"The largest number is \", max(args))\n",
    "    print(\"The smallest number is \", min(args))\n",
    "num_1 = int(input(\"Enter the 1st number: \"))\n",
    "num_2 = int(input(\"Enter the 2nd number: \"))\n",
    "num_3 = int(input(\"Enter the 3rd number: \"))\n",
    "\n",
    "max_num(num_1, num_2, num_3)\n",
    "    "
   ]
  },
  {
   "cell_type": "code",
   "execution_count": 1,
   "metadata": {},
   "outputs": [],
   "source": [
    "l= [1,2,3,4,5]\n",
    "\n",
    "def sum_num(lst):\n",
    "    summation = sum(lst)\n",
    "    print(\"The sum of numbers is \", summation)\n",
    "    \n",
    "sum_num(l)\n",
    "    "
   ]
  },
  {
   "cell_type": "code",
   "execution_count": 4,
   "metadata": {},
   "outputs": [
    {
     "name": "stdout",
     "output_type": "stream",
     "text": [
      "Enter the number: 5\n",
      "Yes the number is in range!\n"
     ]
    }
   ],
   "source": [
    "def num_range():\n",
    "    while(True):\n",
    "        num = int(input(\"Enter the number: \"))\n",
    "        number = range(11)\n",
    "        if num in number:\n",
    "            print(\"Yes the number is in range!\")\n",
    "            break\n",
    "        else:\n",
    "            print(\"The number is not in the range\")\n",
    "num_range()        "
   ]
  },
  {
   "cell_type": "code",
   "execution_count": null,
   "metadata": {},
   "outputs": [],
   "source": []
  },
  {
   "cell_type": "code",
   "execution_count": null,
   "metadata": {},
   "outputs": [],
   "source": []
  }
 ],
 "metadata": {
  "kernelspec": {
   "display_name": "Python 3",
   "language": "python",
   "name": "python3"
  },
  "language_info": {
   "codemirror_mode": {
    "name": "ipython",
    "version": 3
   },
   "file_extension": ".py",
   "mimetype": "text/x-python",
   "name": "python",
   "nbconvert_exporter": "python",
   "pygments_lexer": "ipython3",
   "version": "3.8.5"
  }
 },
 "nbformat": 4,
 "nbformat_minor": 4
}
