{
 "cells": [
  {
   "cell_type": "code",
   "execution_count": 1,
   "metadata": {},
   "outputs": [],
   "source": [
    "# Functions in Python"
   ]
  },
  {
   "cell_type": "code",
   "execution_count": 4,
   "metadata": {},
   "outputs": [
    {
     "name": "stdout",
     "output_type": "stream",
     "text": [
      "Hello Pakistan\n"
     ]
    }
   ],
   "source": [
    "def func():\n",
    "    print(\"Hello Pakistan\")\n",
    "func()"
   ]
  },
  {
   "cell_type": "code",
   "execution_count": 11,
   "metadata": {},
   "outputs": [
    {
     "name": "stdout",
     "output_type": "stream",
     "text": [
      "The sum of a and b is 5\n"
     ]
    },
    {
     "data": {
      "text/plain": [
       "<function __main__.sum(a, b)>"
      ]
     },
     "execution_count": 11,
     "metadata": {},
     "output_type": "execute_result"
    }
   ],
   "source": [
    "def sum(a,b):\n",
    "    c = a + b\n",
    "    print(\"The sum of a and b is\", c)\n",
    "    return sum\n",
    "sum(2,3)\n",
    "    "
   ]
  },
  {
   "cell_type": "code",
   "execution_count": 31,
   "metadata": {},
   "outputs": [
    {
     "name": "stdout",
     "output_type": "stream",
     "text": [
      "My name is Muhammad Adil\n"
     ]
    }
   ],
   "source": [
    "def add(*args):\n",
    "    print(\"My name is \" + args[0] + args[1])\n",
    "add(\"Muhammad \", \"Adil\")"
   ]
  },
  {
   "cell_type": "code",
   "execution_count": 28,
   "metadata": {},
   "outputs": [
    {
     "name": "stdout",
     "output_type": "stream",
     "text": [
      "Name of student is Adil\n"
     ]
    }
   ],
   "source": [
    "def name(first_name = \"Adil\"):\n",
    "    print(\"Name of student is \" + first_name)\n",
    "name()"
   ]
  },
  {
   "cell_type": "code",
   "execution_count": 42,
   "metadata": {},
   "outputs": [
    {
     "name": "stdout",
     "output_type": "stream",
     "text": [
      "apple\n",
      "mango\n",
      "orange\n"
     ]
    }
   ],
   "source": [
    "def basket(fruits):\n",
    "    for x in fruits:\n",
    "        if x==\"cherry\":\n",
    "            break\n",
    "        print(x)\n",
    "Items = [\"apple\", \"mango\", \"orange\", \"cherry\", \"melon\"]\n",
    "basket(Items)"
   ]
  },
  {
   "cell_type": "code",
   "execution_count": 45,
   "metadata": {},
   "outputs": [
    {
     "name": "stdout",
     "output_type": "stream",
     "text": [
      "(5, -1)\n"
     ]
    }
   ],
   "source": [
    "def summation(val1, val2):\n",
    "    add = val1 + val2\n",
    "    sub = val1 - val2\n",
    "    return add, sub\n",
    "print(summation(2,3))"
   ]
  },
  {
   "cell_type": "code",
   "execution_count": 66,
   "metadata": {},
   "outputs": [
    {
     "name": "stdout",
     "output_type": "stream",
     "text": [
      "Enter the first value: 3\n",
      "Enter the second value: 5\n",
      "The maximum value is 5\n"
     ]
    }
   ],
   "source": [
    "def max():\n",
    "    x1 = input(\"Enter the first value: \")\n",
    "    x2 = input(\"Enter the second value: \")\n",
    "    if x1>x2:\n",
    "        print(f\"The maximum value is {x1}\")\n",
    "    elif x2>x1:\n",
    "        print(f\"The maximum value is {x2}\")\n",
    "    else:\n",
    "        print(\"The two values are equal\")\n",
    "max()"
   ]
  },
  {
   "cell_type": "code",
   "execution_count": 69,
   "metadata": {},
   "outputs": [
    {
     "name": "stdout",
     "output_type": "stream",
     "text": [
      "Enter the value: orange\n",
      "['apple', 'mango', 'orange', 'cherry', 'melon']\n"
     ]
    }
   ],
   "source": [
    "def fruits():\n",
    "    x = input(\"Enter the value: \")\n",
    "    if x==\"orange\":\n",
    "        print(list_1)\n",
    "list_1 = [\"apple\", \"mango\", \"orange\", \"cherry\", \"melon\"]\n",
    "fruits()"
   ]
  },
  {
   "cell_type": "code",
   "execution_count": null,
   "metadata": {},
   "outputs": [],
   "source": []
  }
 ],
 "metadata": {
  "kernelspec": {
   "display_name": "Python 3",
   "language": "python",
   "name": "python3"
  },
  "language_info": {
   "codemirror_mode": {
    "name": "ipython",
    "version": 3
   },
   "file_extension": ".py",
   "mimetype": "text/x-python",
   "name": "python",
   "nbconvert_exporter": "python",
   "pygments_lexer": "ipython3",
   "version": "3.8.5"
  }
 },
 "nbformat": 4,
 "nbformat_minor": 4
}
