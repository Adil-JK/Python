{
 "cells": [
  {
   "cell_type": "code",
   "execution_count": 9,
   "metadata": {},
   "outputs": [
    {
     "name": "stdout",
     "output_type": "stream",
     "text": [
      "Enter the string: Ali Siddiqui\n",
      "iuqiddiS ilA\n"
     ]
    }
   ],
   "source": [
    "def reverse_str():\n",
    "    string = input(\"Enter the string: \")\n",
    "    print(string[-1::-1])\n",
    "        \n",
    "reverse_str()"
   ]
  },
  {
   "cell_type": "code",
   "execution_count": 10,
   "metadata": {},
   "outputs": [
    {
     "name": "stdout",
     "output_type": "stream",
     "text": [
      "6\n"
     ]
    }
   ],
   "source": [
    "# Recursive function\n",
    "def max_of_two(x,y):\n",
    "    if x>y:\n",
    "        return x\n",
    "    return y\n",
    "def max_of_three(x,y,z):\n",
    "    return max_of_two(x, max_of_two(y,z))\n",
    "print(max_of_three(3,6,-5))"
   ]
  },
  {
   "cell_type": "code",
   "execution_count": null,
   "metadata": {},
   "outputs": [],
   "source": []
  }
 ],
 "metadata": {
  "kernelspec": {
   "display_name": "Python 3",
   "language": "python",
   "name": "python3"
  },
  "language_info": {
   "codemirror_mode": {
    "name": "ipython",
    "version": 3
   },
   "file_extension": ".py",
   "mimetype": "text/x-python",
   "name": "python",
   "nbconvert_exporter": "python",
   "pygments_lexer": "ipython3",
   "version": "3.8.5"
  }
 },
 "nbformat": 4,
 "nbformat_minor": 4
}
